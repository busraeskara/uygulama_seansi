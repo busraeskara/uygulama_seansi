{
 "cells": [
  {
   "cell_type": "markdown",
   "metadata": {},
   "source": [
    "### Soru XXX\n",
    "Kullanıcının girdiği ad, soyad ve yaş bilgilerini tutan bir dictionary oluşturunuz.\n",
    "- Kullanıcının ad değerini, büyük harfler ile güncelleyiniz. \n",
    "- Kullanıcının yaş değerine 2 ekleyiniz.\n",
    "- Dictionary'e kullanıcının en sevdiği rengi ekleyiniz key-value şeklinde ekleyiniz.\n",
    "- Kullanıcının adını ve soyadını kapsayan yeni bir key-value ekleyiniz.\n",
    "- Kullanıcının ad değerini dictionary'den kaldırınız."
   ]
  },
  {
   "cell_type": "code",
   "execution_count": 1,
   "metadata": {},
   "outputs": [
    {
     "data": {
      "text/plain": [
       "{'personel_name': 'busra', 'personel_surname': 'eskara', 'personel_age': '23'}"
      ]
     },
     "execution_count": 1,
     "metadata": {},
     "output_type": "execute_result"
    }
   ],
   "source": [
    "personal_info = {}\n",
    "\n",
    "personel_name = input(\"İsminiz: \")\n",
    "personel_surname = input(\"Soyadınız: \")\n",
    "personel_age = input(\"Yaşınız: \")\n",
    "\n",
    "personel_info = ({\n",
    "        'personel_name': personel_name,\n",
    "        'personel_surname': personel_surname,\n",
    "        'personel_age':personel_age \n",
    "})\n",
    "\n",
    "personel_info\n",
    "\n"
   ]
  },
  {
   "cell_type": "code",
   "execution_count": 2,
   "metadata": {},
   "outputs": [
    {
     "data": {
      "text/plain": [
       "{'personel_name': 'BUSRA', 'personel_surname': 'eskara', 'personel_age': '23'}"
      ]
     },
     "execution_count": 2,
     "metadata": {},
     "output_type": "execute_result"
    }
   ],
   "source": [
    "# 1 \n",
    "\n",
    "personel_info.update({'personel_name':personel_name.upper()})\n",
    "personel_info\n",
    "\n"
   ]
  },
  {
   "cell_type": "code",
   "execution_count": 3,
   "metadata": {},
   "outputs": [
    {
     "data": {
      "text/plain": [
       "{'personel_name': 'BUSRA', 'personel_surname': 'eskara', 'personel_age': 25}"
      ]
     },
     "execution_count": 3,
     "metadata": {},
     "output_type": "execute_result"
    }
   ],
   "source": [
    "# 2\n",
    "\n",
    "personel_info[\"personel_age\"] = int(personel_age) + 2\n",
    "personel_info\n"
   ]
  },
  {
   "cell_type": "code",
   "execution_count": 4,
   "metadata": {},
   "outputs": [
    {
     "data": {
      "text/plain": [
       "{'personel_name': 'BUSRA',\n",
       " 'personel_surname': 'eskara',\n",
       " 'personel_age': 25,\n",
       " 'personel_color': 'Pink'}"
      ]
     },
     "execution_count": 4,
     "metadata": {},
     "output_type": "execute_result"
    }
   ],
   "source": [
    "# 3\n",
    "\n",
    "personel_info[\"personel_color\"] = \"Pink\"\n",
    "personel_info"
   ]
  },
  {
   "cell_type": "code",
   "execution_count": 5,
   "metadata": {},
   "outputs": [
    {
     "data": {
      "text/plain": [
       "{'personel_name': 'BUSRA',\n",
       " 'personel_surname': 'eskara',\n",
       " 'personel_age': 25,\n",
       " 'personel_color': 'Pink',\n",
       " 'personel_nameSurname': 'Büşra Eşkara'}"
      ]
     },
     "execution_count": 5,
     "metadata": {},
     "output_type": "execute_result"
    }
   ],
   "source": [
    "# 4\n",
    "\n",
    "personel_info[\"personel_nameSurname\"] = \"Büşra Eşkara\"\n",
    "personel_info"
   ]
  },
  {
   "cell_type": "code",
   "execution_count": 6,
   "metadata": {},
   "outputs": [
    {
     "data": {
      "text/plain": [
       "{'personel_surname': 'eskara',\n",
       " 'personel_age': 25,\n",
       " 'personel_color': 'Pink',\n",
       " 'personel_nameSurname': 'Büşra Eşkara'}"
      ]
     },
     "execution_count": 6,
     "metadata": {},
     "output_type": "execute_result"
    }
   ],
   "source": [
    "# 5 \n",
    "\n",
    "del personel_info[\"personel_name\"]\n",
    "personel_info"
   ]
  },
  {
   "cell_type": "markdown",
   "metadata": {},
   "source": [
    "### Soru XXX\n",
    "Kullanıcının verdiği aralığa göre, key değerleri o anki sayı, value değerleri o anki sayının karesi olan bir dictionary oluşturunuz.\n",
    "\n",
    "Örnek olarak, kullanıcı aralık olarak 2 ve 7 girmiş olsun. Bizden beklenen dictionary şu şekilde olmalıdır;\n",
    "\n",
    "```python\n",
    "{2: 4, 3: 9, 4: 16, 5: 25, 6:36, 7:49}\n",
    "```"
   ]
  },
  {
   "cell_type": "code",
   "execution_count": 29,
   "metadata": {},
   "outputs": [
    {
     "name": "stdout",
     "output_type": "stream",
     "text": [
      "{2: 4, 3: 9, 4: 16, 5: 25, 6: 36, 7: 49}\n"
     ]
    }
   ],
   "source": [
    "# 1. Yol\n",
    "\n",
    "input_min = int(input(\"Min değerini giriniz\"))\n",
    "input_max = int(input(\"Max değerini giriniz\"))\n",
    "\n",
    "personel_num = {x: x*x for x in range(input_min, input_max)}\n",
    "\n",
    "print(personel_num)\n",
    "\n"
   ]
  },
  {
   "cell_type": "code",
   "execution_count": 8,
   "metadata": {},
   "outputs": [
    {
     "data": {
      "text/plain": [
       "{2: 4, 3: 9, 4: 16, 5: 25, 6: 36, 7: 49}"
      ]
     },
     "execution_count": 8,
     "metadata": {},
     "output_type": "execute_result"
    }
   ],
   "source": [
    "# 2.Yol\n",
    "\n",
    "personel_num = {}\n",
    "\n",
    "for x in range(2, 8):\n",
    "    personel_num[x] = x * x\n",
    "\n",
    "personel_num\n",
    "\n"
   ]
  },
  {
   "cell_type": "markdown",
   "metadata": {},
   "source": [
    "### Soru XXX\n",
    "Aşağıda verilen liste ile istenilen işlemleri yapınız.\n",
    "- Yaşı 20'den büyük olanları ekrana yazdırınız.\n",
    "- Adı 'A' ile başlayanları ekrana yazdırınız.\n",
    "- Soyadı 'J' ile başlayanları ekrana yazdırınız.\n",
    "- Adı 'C' ile soyadı 'A' ile başlayanları ekrana yazdırınız.\n",
    "- Adının içinde 'A' ahrfi geçenleri ekrana yazdırınız.\n",
    "- Yaşı tek sayı olanları ekrana yazdırınız.\n",
    "- Kullanının yaşını, (kullanıcının yaşı + kullanıcının soyadının uzunluğu) şeklinde güncelleyiniz.\n",
    "- Kullanıcının adını ve soyadını içeren FullName adında yeni bir key-value pair oluşturunuz."
   ]
  },
  {
   "cell_type": "code",
   "execution_count": 58,
   "metadata": {},
   "outputs": [],
   "source": [
    "myUsers = [\n",
    "    {\n",
    "        \"Name\":\"Rosalind\",\n",
    "        \"Surname\": \"Rich\",\n",
    "        \"Age\": 23\n",
    "    }\n",
    "    ,{\n",
    "        \"Name\":\"Annika\",\n",
    "        \"Surname\": \"Keenan\",\n",
    "        \"Age\": 28\n",
    "    }\n",
    "    ,{\n",
    "        \"Name\":\"Emillie\",\n",
    "        \"Surname\": \"Plummer\",\n",
    "        \"Age\": 17\n",
    "    }\n",
    "    ,{\n",
    "        \"Name\":\"Kourtney\",\n",
    "        \"Surname\": \"Pate\",\n",
    "        \"Age\": 30\n",
    "    }\n",
    "    ,{\n",
    "        \"Name\":\"Virgil\",\n",
    "        \"Surname\": \"Solomon\",\n",
    "        \"Age\": 40\n",
    "    }\n",
    "    ,{\n",
    "        \"Name\":\"Bobby\",\n",
    "        \"Surname\": \"Jordan\",\n",
    "        \"Age\":33\n",
    "    }\n",
    "    ,{\n",
    "        \"Name\":\"Alfie\",\n",
    "        \"Surname\":\"James Robson\",\n",
    "        \"Age\": 16\n",
    "    } \n",
    "    ,{\n",
    "        \"Name\":\"Isla\",\n",
    "        \"Surname\":\"Grace Tran\",\n",
    "        \"Age\": 64\n",
    "    } \n",
    "    ,{\n",
    "        \"Name\":\"Arif\",\n",
    "        \"Surname\": \"Rivas\",\n",
    "        \"Age\": 43\n",
    "    }\n",
    "    ,{\n",
    "        \"Name\":\"Zakaria\",\n",
    "        \"Surname\": \"Whitehead\",\n",
    "        \"Age\": 82\n",
    "    }\n",
    "    ,{\n",
    "        \"Name\":\"Casper\",\n",
    "        \"Surname\": \"Velasquez\",\n",
    "        \"Age\": 57\n",
    "    }\n",
    "    ,{\n",
    "        \"Name\":\"Caoimhe\",\n",
    "        \"Surname\": \"Ali\",\n",
    "        \"Age\": 34\n",
    "    }\n",
    "    ,{\n",
    "        \"Name\":\"Viola\",\n",
    "        \"Surname\": \"Shepherd\",\n",
    "        \"Age\": 18\n",
    "    }\n",
    "]\n",
    "\n",
    "myUsers = {}"
   ]
  },
  {
   "cell_type": "markdown",
   "metadata": {},
   "source": [
    "### Soru XXX\n",
    "Kullanıcının girdiği string içerisindeki unique karakterleri ekrana yazdırınız."
   ]
  },
  {
   "cell_type": "code",
   "execution_count": 14,
   "metadata": {},
   "outputs": [
    {
     "name": "stdout",
     "output_type": "stream",
     "text": [
      "['s', 'i', 't', 'e', 'r', 'l', 'a', 'b']\n"
     ]
    }
   ],
   "source": [
    "# 1.Yol\n",
    "\n",
    "input_char = input()\n",
    "\n",
    "char = []\n",
    "\n",
    "for i in input_char:\n",
    "    if not i in char:\n",
    "        char.append(i)\n",
    "\n",
    "print(char)"
   ]
  },
  {
   "cell_type": "code",
   "execution_count": 18,
   "metadata": {},
   "outputs": [
    {
     "name": "stdout",
     "output_type": "stream",
     "text": [
      "{'t', 'b', 'i', 'l', 's', 'e', 'r', 'a'}\n"
     ]
    }
   ],
   "source": [
    "# 2.Yol\n",
    "\n",
    "input_char = input()\n",
    "\n",
    "char = set(input_char)\n",
    "\n",
    "print(char)"
   ]
  },
  {
   "cell_type": "markdown",
   "metadata": {},
   "source": [
    "### Soru XXX\n",
    "Verilen iki set için aşağıdaki işlemleri yapınız;\n",
    "- İki set arasındaki farkı ekrana yazdırınız.\n",
    "- İki set içerisinde ortak olanları ekrana yazdırınız.\n",
    "- İki seti birleştirip ekrana yazdırınız.\n",
    "- İlk set içerisinde olmayıp ikinci set içerisinde olan değerleri ekrana yazdırınız.\n",
    "- İkinci set içerisinde olmayıp ilk set içerisinde olan değerleri ekrana yazdırınız.\n",
    "\n",
    "```python\n",
    "set1 = {True, False, 1, 2, 3, 4, 's', 'i', 's', 't', 'e'}\n",
    "set2 = {'r', 's', 'l', 'a', 'b', None, 6, 7, 8, 9}\n",
    "```"
   ]
  },
  {
   "cell_type": "code",
   "execution_count": 19,
   "metadata": {},
   "outputs": [
    {
     "data": {
      "text/plain": [
       "{2, 3, 4, 6, 7, 8, 9, False, None, True, 'a', 'b', 'e', 'i', 'l', 'r', 't'}"
      ]
     },
     "execution_count": 19,
     "metadata": {},
     "output_type": "execute_result"
    }
   ],
   "source": [
    "# 1\n",
    "\n",
    "set1 = {True, False, 1, 2, 3, 4, 's', 'i', 's', 't', 'e'}\n",
    "set2 = {'r', 's', 'l', 'a', 'b', None, 6, 7, 8, 9}\n",
    "\n",
    "set3 = set1 ^ set2 \n",
    "\n",
    "set3\n"
   ]
  },
  {
   "cell_type": "code",
   "execution_count": 20,
   "metadata": {},
   "outputs": [
    {
     "data": {
      "text/plain": [
       "{'s'}"
      ]
     },
     "execution_count": 20,
     "metadata": {},
     "output_type": "execute_result"
    }
   ],
   "source": [
    "# 2\n",
    "\n",
    "set1 = {True, False, 1, 2, 3, 4, 's', 'i', 's', 't', 'e'}\n",
    "set2 = {'r', 's', 'l', 'a', 'b', None, 6, 7, 8, 9}\n",
    "\n",
    "set3 = set1 & set2\n",
    "\n",
    "set3\n"
   ]
  },
  {
   "cell_type": "code",
   "execution_count": 21,
   "metadata": {},
   "outputs": [
    {
     "data": {
      "text/plain": [
       "{2,\n",
       " 3,\n",
       " 4,\n",
       " 6,\n",
       " 7,\n",
       " 8,\n",
       " 9,\n",
       " False,\n",
       " None,\n",
       " True,\n",
       " 'a',\n",
       " 'b',\n",
       " 'e',\n",
       " 'i',\n",
       " 'l',\n",
       " 'r',\n",
       " 's',\n",
       " 't'}"
      ]
     },
     "execution_count": 21,
     "metadata": {},
     "output_type": "execute_result"
    }
   ],
   "source": [
    "# 3\n",
    "\n",
    "set1 = {True, False, 1, 2, 3, 4, 's', 'i', 's', 't', 'e'}\n",
    "set2 = {'r', 's', 'l', 'a', 'b', None, 6, 7, 8, 9}\n",
    "\n",
    "set3 = set1 | set2\n",
    "set3"
   ]
  },
  {
   "cell_type": "code",
   "execution_count": 22,
   "metadata": {},
   "outputs": [
    {
     "data": {
      "text/plain": [
       "{6, 7, 8, 9, None, 'a', 'b', 'l', 'r', 's'}"
      ]
     },
     "execution_count": 22,
     "metadata": {},
     "output_type": "execute_result"
    }
   ],
   "source": [
    "# 5\n",
    "\n",
    "set2.difference(set1)\n",
    "\n",
    "set2\n",
    "\n"
   ]
  },
  {
   "cell_type": "code",
   "execution_count": 23,
   "metadata": {},
   "outputs": [
    {
     "data": {
      "text/plain": [
       "{2, 3, 4, False, True, 'e', 'i', 's', 't'}"
      ]
     },
     "execution_count": 23,
     "metadata": {},
     "output_type": "execute_result"
    }
   ],
   "source": [
    "# 6 \n",
    "\n",
    "set1.difference(set2)\n",
    "\n",
    "set1\n"
   ]
  },
  {
   "cell_type": "markdown",
   "metadata": {},
   "source": [
    "### Soru XXX\n",
    "Kullanıcıdan alınan string ifadedeki karakterlerin kaç kere tekrar ettiğini tutan bir dictionary oluşturunuz.\n",
    "\n",
    "sisterslab için örnek çıktı şu şekilde olmalıdır \n",
    "\n",
    "```python\n",
    "{'s': 3, 'r': 1, 'e': 1, 'l': 1, 'b': 1, 't': 1, 'a': 1, 'i': 1}\n",
    "```"
   ]
  },
  {
   "cell_type": "code",
   "execution_count": 24,
   "metadata": {},
   "outputs": [
    {
     "data": {
      "text/plain": [
       "{'s': 3, 'i': 1, 't': 1, 'e': 1, 'r': 1, 'l': 1, 'a': 1, 'b': 1}"
      ]
     },
     "execution_count": 24,
     "metadata": {},
     "output_type": "execute_result"
    }
   ],
   "source": [
    "# 1.Yol\n",
    "\n",
    "personel_str = \"sisterslab\"\n",
    "\n",
    "dic = {}\n",
    "\n",
    "for i in personel_str:\n",
    "    dic[i] = dic.get(i, 0) + 1\n",
    "\n",
    "dic"
   ]
  },
  {
   "cell_type": "code",
   "execution_count": 25,
   "metadata": {},
   "outputs": [
    {
     "data": {
      "text/plain": [
       "Counter({'s': 3, 'i': 1, 't': 1, 'e': 1, 'r': 1, 'l': 1, 'a': 1, 'b': 1})"
      ]
     },
     "execution_count": 25,
     "metadata": {},
     "output_type": "execute_result"
    }
   ],
   "source": [
    "# 2.Yol\n",
    "\n",
    "from collections import Counter\n",
    "\n",
    "personel_str = \"sisterslab\"\n",
    "\n",
    "Counter(personel_str)"
   ]
  },
  {
   "cell_type": "code",
   "execution_count": 26,
   "metadata": {},
   "outputs": [
    {
     "data": {
      "text/plain": [
       "{'s': 3, 'i': 1, 't': 1, 'e': 1, 'r': 1, 'l': 1, 'a': 1, 'b': 1}"
      ]
     },
     "execution_count": 26,
     "metadata": {},
     "output_type": "execute_result"
    }
   ],
   "source": [
    "# 3.Yol\n",
    "\n",
    "personel_str = \"sisterslab\"\n",
    "\n",
    "count = {}\n",
    "\n",
    "for i in personel_str:\n",
    "     count[i] = count.setdefault(i, 0) + 1\n",
    "     \n",
    "count"
   ]
  },
  {
   "cell_type": "code",
   "execution_count": null,
   "metadata": {},
   "outputs": [],
   "source": []
  }
 ],
 "metadata": {
  "kernelspec": {
   "display_name": "Python 3.10.7 64-bit",
   "language": "python",
   "name": "python3"
  },
  "language_info": {
   "codemirror_mode": {
    "name": "ipython",
    "version": 3
   },
   "file_extension": ".py",
   "mimetype": "text/x-python",
   "name": "python",
   "nbconvert_exporter": "python",
   "pygments_lexer": "ipython3",
   "version": "3.10.7"
  },
  "orig_nbformat": 4,
  "vscode": {
   "interpreter": {
    "hash": "a9cff5a362bc38ef45d817ae74b1af54d6a076e3d773891282bce078b815ba34"
   }
  }
 },
 "nbformat": 4,
 "nbformat_minor": 2
}
